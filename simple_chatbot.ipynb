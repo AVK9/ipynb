{
  "nbformat": 4,
  "nbformat_minor": 0,
  "metadata": {
    "colab": {
      "provenance": [],
      "authorship_tag": "ABX9TyPh0rL94uRmURnYLrxd8isI",
      "include_colab_link": true
    },
    "kernelspec": {
      "name": "python3",
      "display_name": "Python 3"
    },
    "language_info": {
      "name": "python"
    }
  },
  "cells": [
    {
      "cell_type": "markdown",
      "metadata": {
        "id": "view-in-github",
        "colab_type": "text"
      },
      "source": [
        "<a href=\"https://colab.research.google.com/github/AVK9/ipynb/blob/main/simple_chatbot.ipynb\" target=\"_parent\"><img src=\"https://colab.research.google.com/assets/colab-badge.svg\" alt=\"Open In Colab\"/></a>"
      ]
    },
    {
      "cell_type": "code",
      "execution_count": null,
      "metadata": {
        "colab": {
          "base_uri": "https://localhost:8080/"
        },
        "id": "JUWRXwY3zPRS",
        "outputId": "f6eea786-43a0-4f38-dd89-e8c66c8386e7"
      },
      "outputs": [
        {
          "output_type": "stream",
          "name": "stdout",
          "text": [
            "Ви: Добрий день\n",
            "Чат-бот:  Привіт! Як я можу допомогти?\n",
            "Ви: іва\n",
            "Чат-бот:  Вибачте, я не зрозумів вашого питання. Можете задати щось інше?\n",
            "Ви: Які у тебе хобі?\n",
            "Чат-бот:  Моє хобі - допомагати людям.\n",
            "Ви: ві\n",
            "Чат-бот:  Вибачте, я не зрозумів вашого питання. Можете задати щось інше?\n"
          ]
        }
      ],
      "source": [
        "import nltk\n",
        "from nltk.chat.util import Chat, reflections\n",
        "# Визначення шаблонiв i вiдповiдей\n",
        "pairs =[\n",
        " (r'Привіт|Добрий день', ['Привіт! Як я можу допомогти?']),\n",
        "\n",
        "    (r'Як справи?', ['Добре, дякую! Як у вас?']),\n",
        "    (r'Які у тебе хобі?', ['Моє хобі - допомагати людям.']),\n",
        "    (r'Вибач, але я йду.', ['До побачення!'])\n",
        "]\n",
        "# Додати універсальну відповідь на незнайомі запити\n",
        "def respond(user_input):\n",
        "    response = chat_bot.respond(user_input)\n",
        "    if response is None:\n",
        "        response = \"Вибачте, я не зрозумів вашого питання. Можете задати щось інше?\"\n",
        "    return response\n",
        "\n",
        "# Створення чатботу\n",
        "chat_bot = Chat(pairs, reflections)\n",
        "while True:\n",
        "    user_input = input(\"Ви: \")\n",
        "    print(\"Чат-бот: \", respond(user_input))"
      ]
    }
  ]
}